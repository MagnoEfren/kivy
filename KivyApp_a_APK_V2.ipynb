{
  "nbformat": 4,
  "nbformat_minor": 0,
  "metadata": {
    "colab": {
      "name": "Copia de KivyApp a APK.ipynb",
      "provenance": [],
      "collapsed_sections": []
    },
    "kernelspec": {
      "name": "python3",
      "display_name": "Python 3"
    }
  },
  "cells": [
    {
      "cell_type": "markdown",
      "metadata": {
        "id": "u5LQ-TqckIqn"
      },
      "source": [
        "**Convertir la aplicación Python en APK**"
      ]
    },
    {
      "cell_type": "markdown",
      "metadata": {
        "id": "5VgeCFq8imYi"
      },
      "source": [
        "Como se trata de un sistema basado en Linux, ahora lo único que se requiere es instalar las dependencias e iniciar el proceso.\n",
        "\n",
        "Antes de ejecutar las celdas, asegúrese de cargar el código de su aplicación en el cuaderno de colab y, después de ejecutar el comando bulldozer init, asegúrese de editar el archivo de especificaciones generado y nada más.\n",
        "\n",
        "*Fuente:* *https://towardsdatascience.com/3-ways-to-convert-python-app-into-apk-77f4c9cd55af*\n"
      ]
    },
    {
      "cell_type": "code",
      "metadata": {
        "id": "Yzg0jnV7dHTp"
      },
      "source": [
        "!pip install buildozer"
      ],
      "execution_count": null,
      "outputs": []
    },
    {
      "cell_type": "code",
      "metadata": {
        "id": "XX3isEFydNar"
      },
      "source": [
        "!pip install cython==0.29.19"
      ],
      "execution_count": null,
      "outputs": []
    },
    {
      "cell_type": "code",
      "metadata": {
        "id": "QZRYW9UvdcDt"
      },
      "source": [
        "!sudo apt-get install -y \\\n",
        "    python3-pip \\\n",
        "    build-essential \\\n",
        "    git \\\n",
        "    python3 \\\n",
        "    python3-dev \\\n",
        "    ffmpeg \\\n",
        "    libsdl2-dev \\\n",
        "    libsdl2-image-dev \\\n",
        "    libsdl2-mixer-dev \\\n",
        "    libsdl2-ttf-dev \\\n",
        "    libportmidi-dev \\\n",
        "    libswscale-dev \\\n",
        "    libavformat-dev \\\n",
        "    libavcodec-dev \\\n",
        "    zlib1g-dev"
      ],
      "execution_count": null,
      "outputs": []
    },
    {
      "cell_type": "code",
      "metadata": {
        "id": "S9Z7KfTOnXuZ"
      },
      "source": [
        "!sudo apt-get install -y \\\n",
        "    libgstreamer1.0 \\\n",
        "    gstreamer1.0-plugins-base \\\n",
        "    gstreamer1.0-plugins-good"
      ],
      "execution_count": null,
      "outputs": []
    },
    {
      "cell_type": "code",
      "metadata": {
        "id": "Gjp7v6bTnd5V"
      },
      "source": [
        "!sudo apt-get install build-essential libsqlite3-dev sqlite3 bzip2 libbz2-dev zlib1g-dev libssl-dev openssl libgdbm-dev libgdbm-compat-dev liblzma-dev libreadline-dev libncursesw5-dev libffi-dev uuid-dev libffi6"
      ],
      "execution_count": null,
      "outputs": []
    },
    {
      "cell_type": "code",
      "metadata": {
        "id": "DA3BNyuKnrI1"
      },
      "source": [
        "!sudo apt-get install libffi-dev"
      ],
      "execution_count": null,
      "outputs": []
    },
    {
      "cell_type": "code",
      "metadata": {
        "id": "EeTysn9dntOO"
      },
      "source": [
        "!buildozer init"
      ],
      "execution_count": null,
      "outputs": []
    },
    {
      "cell_type": "code",
      "metadata": {
        "id": "tLbircO10N0a"
      },
      "source": [
        "!buildozer -v android debug"
      ],
      "execution_count": null,
      "outputs": []
    },
    {
      "cell_type": "code",
      "metadata": {
        "id": "YZPSi3j4oweu"
      },
      "source": [
        "!buildozer android clean"
      ],
      "execution_count": null,
      "outputs": []
    },
    {
      "cell_type": "code",
      "metadata": {
        "id": "wyVLXEgJFeqv"
      },
      "source": [],
      "execution_count": null,
      "outputs": []
    },
    {
      "cell_type": "markdown",
      "source": [
        "**En caso no funcione el anterior debemos ejecutar los siguientes comandos:**\n"
      ],
      "metadata": {
        "id": "pxt0HQpQSDTG"
      }
    },
    {
      "cell_type": "code",
      "source": [
        "!buildozer android clean \n",
        "!buildozer android debug deploy run"
      ],
      "metadata": {
        "id": "tOOklkUcSMA9"
      },
      "execution_count": null,
      "outputs": []
    },
    {
      "cell_type": "markdown",
      "source": [
        "Porque cuando buildozer instala los requisitos especificados anteriormente de anycodings_apk, es posible que anycodings_apk instale versiones de anycodings_apk que no coincidan con las especificaciones de anycodings_apk de sus aplicaciones . Así que límpielo y luego ejecute."
      ],
      "metadata": {
        "id": "sR4Ry-c0SoaJ"
      }
    }
  ]
}